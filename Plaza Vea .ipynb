{
 "cells": [
  {
   "cell_type": "code",
   "execution_count": 19,
   "id": "067a192c",
   "metadata": {},
   "outputs": [],
   "source": [
    "from selenium import webdriver\n",
    "from selenium.webdriver.support.ui import WebDriverWait\n",
    "from selenium.webdriver.support import expected_conditions as EC\n",
    "from selenium.webdriver.common.by import By\n",
    "from selenium.webdriver.chrome.service import Service\n",
    "from webdriver_manager.chrome import ChromeDriverManager\n",
    "from selenium.webdriver.common.keys import Keys\n",
    "import time\n",
    "import pandas as pd\n",
    "import re\n",
    "\n"
   ]
  },
  {
   "cell_type": "code",
   "execution_count": 20,
   "id": "cfe98280",
   "metadata": {},
   "outputs": [],
   "source": [
    "options = webdriver.ChromeOptions()\n",
    "\n",
    "options.add_experimental_option(\"detach\", True) # Para que no se cierre el navegador al finalizar el código\n",
    "options.add_argument(\"--disable-extensions\") # que la ventana de chrome emergente no tenga activada ninguna extensión\n",
    "\n",
    "# NOTA: se debe urilizar como máximo Google Crome ver. 94.0. El driver no soporta más actualizados. \n",
    "driver_path = \" C:\\\\Users\\\\gmaqu\\\\Documents\\\\chromedriver.exe\" # el path en el que se encuentra el driver de chrome\n",
    "driver = webdriver.Chrome(service=Service(ChromeDriverManager().install()), options=options) # se le coloca el servicio como una clase \n",
    "#Servicio sino devuelve error.\n",
    "\n",
    "driver.get(\"https://www.plazavea.com.pe\") # abre el navegador"
   ]
  },
  {
   "cell_type": "code",
   "execution_count": null,
   "id": "2b2801c9",
   "metadata": {},
   "outputs": [],
   "source": []
  }
 ],
 "metadata": {
  "kernelspec": {
   "display_name": "Python 3 (ipykernel)",
   "language": "python",
   "name": "python3"
  },
  "language_info": {
   "codemirror_mode": {
    "name": "ipython",
    "version": 3
   },
   "file_extension": ".py",
   "mimetype": "text/x-python",
   "name": "python",
   "nbconvert_exporter": "python",
   "pygments_lexer": "ipython3",
   "version": "3.9.7"
  }
 },
 "nbformat": 4,
 "nbformat_minor": 5
}
