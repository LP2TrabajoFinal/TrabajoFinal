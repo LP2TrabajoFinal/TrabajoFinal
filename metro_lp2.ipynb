{
 "cells": [
  {
   "cell_type": "code",
   "execution_count": 27,
   "id": "e66fd505",
   "metadata": {},
   "outputs": [],
   "source": [
    "from selenium import webdriver\n",
    "from selenium.webdriver.common.keys import Keys\n",
    "import pandas as pd\n",
    "import requests\n",
    "from bs4 import BeautifulSoup\n",
    "import time"
   ]
  },
  {
   "cell_type": "code",
   "execution_count": 33,
   "id": "59b2ed92",
   "metadata": {},
   "outputs": [],
   "source": [
    "url = 'https://www.metro.pe/'\n",
    "r = requests.get(url)\n",
    "s = BeautifulSoup(r.text,'lxml')"
   ]
  },
  {
   "cell_type": "code",
   "execution_count": 34,
   "id": "aefcfde1",
   "metadata": {},
   "outputs": [
    {
     "name": "stderr",
     "output_type": "stream",
     "text": [
      "C:\\Users\\MIGUEL\\AppData\\Local\\Temp\\ipykernel_16720\\1436935464.py:4: DeprecationWarning: executable_path has been deprecated, please pass in a Service object\n",
      "  driver=webdriver.Chrome(PATH,options=options)\n"
     ]
    }
   ],
   "source": [
    "PATH='C:\\Program Files (x86)\\chromedriver.exe'\n",
    "options = webdriver.ChromeOptions()\n",
    "options.add_argument('--incognito')\n",
    "driver=webdriver.Chrome(PATH,options=options)"
   ]
  },
  {
   "cell_type": "code",
   "execution_count": 48,
   "id": "d8687b06",
   "metadata": {},
   "outputs": [
    {
     "name": "stderr",
     "output_type": "stream",
     "text": [
      "C:\\Users\\MIGUEL\\AppData\\Local\\Temp\\ipykernel_16720\\2441413475.py:1: DeprecationWarning: executable_path has been deprecated, please pass in a Service object\n",
      "  driver = webdriver.Chrome(PATH,options=options)\n"
     ]
    }
   ],
   "source": [
    "driver = webdriver.Chrome(PATH,options=options)\n",
    "driver.get(url)\n",
    "search_bar = driver.find_element(\"id\",\"search-autocomplete-input\")\n",
    "search_bar.clear()\n",
    "search_bar.send_keys(\"arroz\")\n",
    "search_bar.send_keys(Keys.RETURN)\n",
    "\n",
    "titulo_productos=driver.find_elements(\"xpath\",\"//a[@class='product-item__name']\")\n",
    "titulo_productos=[title.text for title in titulo_productos]\n",
    "\n",
    "precio_productos=driver.find_elements(\"xpath\",\"//span[@class='product-prices__value product-prices__value--best-price']\")\n",
    "precio_productos=[title.text for title in precio_productos]\n",
    "\n",
    "links_productos=driver.find_elements(\"xpath\",\"//div[@class='product-item__info']//a[1]\")\n",
    "links_productos=[ link.get_attribute(\"href\") for link in links_productos]\n",
    "\n",
    "data_productos={\"nombre_productos\":titulo_productos,\n",
    "               \"precio_productos\":precio_productos,\n",
    "               \"links_productos\":links_productos}\n",
    "df=pd.DataFrame(data_productos)\n",
    "\n",
    "df.to_excel(\"PRODUCTOS1.xlsx\") #sin indice: df.to_excel(\"PRODUCTOS1.xlsx\",index=FALSE)  "
   ]
  },
  {
   "cell_type": "code",
   "execution_count": null,
   "id": "bf39dbd0",
   "metadata": {},
   "outputs": [],
   "source": [
    "precio_productos=driver.find_elements(\"xpath\",\"//div[@data-stock='true']//div[@class='Showcase__details']//div[@class='Showcase__priceBox']//div[@class='Showcase__priceBox__col']//div[@class='Showcase__salePrice']//span[@class='price-container']\")\n",
    "print(precio_productos)"
   ]
  }
 ],
 "metadata": {
  "kernelspec": {
   "display_name": "Python 3 (ipykernel)",
   "language": "python",
   "name": "python3"
  },
  "language_info": {
   "codemirror_mode": {
    "name": "ipython",
    "version": 3
   },
   "file_extension": ".py",
   "mimetype": "text/x-python",
   "name": "python",
   "nbconvert_exporter": "python",
   "pygments_lexer": "ipython3",
   "version": "3.9.12"
  }
 },
 "nbformat": 4,
 "nbformat_minor": 5
}
