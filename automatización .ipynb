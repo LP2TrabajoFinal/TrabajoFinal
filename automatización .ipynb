{
 "cells": [
  {
   "cell_type": "code",
   "execution_count": 2,
   "id": "b2cc24a9",
   "metadata": {},
   "outputs": [],
   "source": [
    "from email.mime.multipart import MIMEMultipart\n",
    "from email.mime.base import MIMEBase\n",
    "from email.mime.text import MIMEText\n",
    "from email.encoders import encode_base64\n",
    "from smtplib import SMTP\n",
    "import os"
   ]
  },
  {
   "cell_type": "code",
   "execution_count": 6,
   "id": "30e286b2",
   "metadata": {},
   "outputs": [
    {
     "name": "stdout",
     "output_type": "stream",
     "text": [
      "Ingrese su coreo electronico: monkey.de.miguel@gmail.com\n",
      "Ingrese contraseña de su correo electronico: eshxdfoxozqhlocb\n",
      "ingrese el asunto del correo electronico: a\n",
      "Ingrese mensaje o cuerpo del correo electronico: a\n",
      "Ingrese el nombre del archivo a enviar con su respectiva extension: PRODUCTOS.xlsx\n",
      "Ingrese el correo electronico receptor: 20200337@lamolina.edu.pe\n",
      "Correo enviado exitosamente a : 20200337@lamolina.edu.pe\n",
      "= programa ejecutado y finalizado correctamente=\n"
     ]
    }
   ],
   "source": [
    "emisor =input('Ingrese su coreo electronico: ')\n",
    "contra=input('Ingrese contraseña de su correo electronico: ')\n",
    "asunto=input('ingrese el asunto del correo electronico: ')\n",
    "cuerpo=input('Ingrese mensaje o cuerpo del correo electronico: ')\n",
    "archivo=input('Ingrese el nombre del archivo a enviar con su respectiva extension: ')\n",
    "receptor=input('Ingrese el correo electronico receptor: ')\n",
    "\n",
    "mensaje = MIMEMultipart('plain')\n",
    "mensaje['From']=emisor\n",
    "mensaje['To']=receptor\n",
    "mensaje['subjet']=asunto\n",
    "mensaje['subjet']=cuerpo\n",
    "tema=MIMEText(cuerpo,'html')\n",
    "mensaje.attach(tema)\n",
    "adjunto=MIMEBase('application','octect-stream')\n",
    "adjunto.set_payload(open(archivo,'rb').read())\n",
    "encode_base64(adjunto)\n",
    "adjunto.add_header('content-Disposition','attachment;filename=\"%s\"'% os.path.basename(archivo))\n",
    "mensaje.attach(adjunto)\n",
    "smtp=SMTP(host='smtp.gmail.com',port=587)\n",
    "smtp.starttls()\n",
    "smtp.login(emisor,contra)\n",
    "smtp.sendmail(emisor,receptor,mensaje.as_string())\n",
    "smtp.quit()\n",
    "print('Correo enviado exitosamente a :',receptor)\n",
    "\n",
    "print('= programa ejecutado y finalizado correctamente=')\n"
   ]
  },
  {
   "cell_type": "code",
   "execution_count": null,
   "id": "ff5f69d3",
   "metadata": {},
   "outputs": [],
   "source": []
  }
 ],
 "metadata": {
  "kernelspec": {
   "display_name": "Python 3 (ipykernel)",
   "language": "python",
   "name": "python3"
  },
  "language_info": {
   "codemirror_mode": {
    "name": "ipython",
    "version": 3
   },
   "file_extension": ".py",
   "mimetype": "text/x-python",
   "name": "python",
   "nbconvert_exporter": "python",
   "pygments_lexer": "ipython3",
   "version": "3.9.12"
  }
 },
 "nbformat": 4,
 "nbformat_minor": 5
}
