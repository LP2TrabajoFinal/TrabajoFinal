{
 "cells": [
  {
   "cell_type": "code",
   "execution_count": 133,
   "id": "9313c3bf",
   "metadata": {},
   "outputs": [],
   "source": [
    "import requests\n",
    "from bs4 import BeautifulSoup \n",
    "import pandas as pd"
   ]
  },
  {
   "cell_type": "code",
   "execution_count": 182,
   "id": "5a8dc9c1",
   "metadata": {},
   "outputs": [],
   "source": [
    "r = requests.get('https://www.plazavea.com.pe/abarrotes/')\n"
   ]
  },
  {
   "cell_type": "code",
   "execution_count": 183,
   "id": "443f4a63",
   "metadata": {},
   "outputs": [],
   "source": [
    "soup = BeautifulSoup(r.content,'html.parser')"
   ]
  },
  {
   "cell_type": "code",
   "execution_count": 184,
   "id": "336c30a3",
   "metadata": {},
   "outputs": [],
   "source": [
    "titulos = soup.find_all('a',{\"class\":\"Showcase__name\"})\n"
   ]
  },
  {
   "cell_type": "code",
   "execution_count": 185,
   "id": "2bb07272",
   "metadata": {},
   "outputs": [],
   "source": [
    "titulos = [i.text for i in titulos]"
   ]
  },
  {
   "cell_type": "code",
   "execution_count": 187,
   "id": "4636391c",
   "metadata": {},
   "outputs": [
    {
     "data": {
      "text/plain": [
       "['Aceite Vegetal PRIMOR Premium Botella 1L',\n",
       " \"Azúcar Rubia BELL'S Bolsa 4Kg\",\n",
       " 'Fideo Spaghetti DON VITTORIO Bolsa 950g',\n",
       " \"Aceite Vegetal BELL'S Botella 900ml\",\n",
       " 'Aceite de Soya SAO Botella 900ml',\n",
       " 'Aceite Vegetal PRIMOR Premium Botella 900ml',\n",
       " \"Azúcar Rubia BELL'S Selección Bolsa 5Kg\",\n",
       " \"Lenteja Bebé BELL'S Bolsa 500g\",\n",
       " \"Aceite Vegetal BELL'S Galonera 5L\",\n",
       " \"Frijol Canario BELL'S Bolsa 500g\",\n",
       " 'Arroz Extra Añejo FARAON Naranja Bolsa 5kg',\n",
       " 'Sal Marina EMSAL Mesa Bolsa 1Kg',\n",
       " 'Trozos de Atún PRIMOR en Aceite Vegetal Lata 170g',\n",
       " 'Arroz Superior PAISANA Bolsa 5Kg',\n",
       " 'Mayonesa ALACENA Doypack 950g',\n",
       " 'Galleta Vainilla FIELD Paquete 6un',\n",
       " 'Galletas de Soda SAN JORGE Paquete 7un',\n",
       " 'Galletas MOROCHAS Bañadas con Pasta Sabor a Chocolate Paquete 6un',\n",
       " 'Arroz Extra COSTEÑO Bolsa 5Kg',\n",
       " 'Fideos Spaghetti NICOLINI Bolsa 950g']"
      ]
     },
     "execution_count": 187,
     "metadata": {},
     "output_type": "execute_result"
    }
   ],
   "source": [
    "titulos \n"
   ]
  },
  {
   "cell_type": "code",
   "execution_count": 188,
   "id": "c3b82264",
   "metadata": {},
   "outputs": [],
   "source": [
    "urls = soup.find_all('a',{\"class\":\"Showcase__link\"})"
   ]
  },
  {
   "cell_type": "code",
   "execution_count": 189,
   "id": "12a50493",
   "metadata": {},
   "outputs": [],
   "source": [
    "urls = [i.get('href') for i in urls]"
   ]
  },
  {
   "cell_type": "code",
   "execution_count": 237,
   "id": "d9496a5f",
   "metadata": {},
   "outputs": [],
   "source": [
    "result = [] \n",
    "for i in urls : \n",
    "    if i not in result: \n",
    "        result.append(i)"
   ]
  },
  {
   "cell_type": "code",
   "execution_count": 238,
   "id": "5c80667c",
   "metadata": {},
   "outputs": [
    {
     "data": {
      "text/plain": [
       "['https://www.plazavea.com.pe/arroz-extra-faraon-bolsa-5kg/p',\n",
       " 'https://www.plazavea.com.pe/arroz-superior-paisana-bolsa-5kg/p',\n",
       " 'https://www.plazavea.com.pe/arroz-extra-costeno-bolsa-5kg/p',\n",
       " 'https://www.plazavea.com.pe/arroz-extra-paisana-bolsa-5kg/p',\n",
       " 'https://www.plazavea.com.pe/arroz-extra-bell-s-bolsa-5kg/p',\n",
       " 'https://www.plazavea.com.pe/arroz-extra-vallenorte-bolsa-5kg/p',\n",
       " 'https://www.plazavea.com.pe/arroz-extra-gran-chalan-bolsa-5kg/p',\n",
       " 'https://www.plazavea.com.pe/arroz-superior-faraon-bolsa-5kg/p',\n",
       " 'https://www.plazavea.com.pe/arroz-superior-bells-bolas-5kg/p',\n",
       " 'https://www.plazavea.com.pe/arroz-extra-costeno-bolsa-750g/p',\n",
       " 'https://www.plazavea.com.pe/arroz-extra-vallenorte-gran-reserva-bolsa-750g/p',\n",
       " 'https://www.plazavea.com.pe/arroz-integral-vallenorte-bolsa-750g/p',\n",
       " 'https://www.plazavea.com.pe/arroz-integral-bells-bolsa-5kg/p',\n",
       " 'https://www.plazavea.com.pe/arroz-extra-faraon-azul-bolsa-5kg/p',\n",
       " 'https://www.plazavea.com.pe/arroz-superior-gran-chalan-bolsa-5kg/p',\n",
       " 'https://www.plazavea.com.pe/arroz-extra-faraon-bolsa-750g/p',\n",
       " 'https://www.plazavea.com.pe/arroz-superior-vallenorte-bolsa-5kg/p',\n",
       " 'https://www.plazavea.com.pe/arroz-superior-costeno-bolsa-750g/p',\n",
       " 'https://www.plazavea.com.pe/arroz-extra-bells-bolsa-750g/p',\n",
       " 'https://www.plazavea.com.pe/arroz-superior-costeno-bolsa-5kg/p']"
      ]
     },
     "execution_count": 238,
     "metadata": {},
     "output_type": "execute_result"
    }
   ],
   "source": [
    "result"
   ]
  },
  {
   "cell_type": "code",
   "execution_count": 191,
   "id": "19315d7b",
   "metadata": {},
   "outputs": [
    {
     "name": "stdout",
     "output_type": "stream",
     "text": [
      "11.50\n",
      "16.70\n",
      "5.10\n",
      "8.10\n",
      "8.90\n",
      "11.50\n",
      "23.00\n",
      "3.60\n",
      "42.50\n",
      "6.09\n",
      "23.59\n",
      "2.20\n",
      "5.99\n",
      "19.50\n",
      "18.50\n",
      "4.19\n",
      "3.60\n",
      "4.60\n",
      "23.50\n",
      "4.00\n"
     ]
    }
   ],
   "source": [
    "for div in soup.find_all(\"div\", { \"class\": \"Showcase__priceBox__amount\" }):\n",
    "    inner_div = div.find(\"div\", { \"class\": \"Showcase__salePrice\" })\n",
    "    print(inner_div.text.strip()[3:])"
   ]
  },
  {
   "cell_type": "code",
   "execution_count": null,
   "id": "4d8160b1",
   "metadata": {},
   "outputs": [],
   "source": [
    "tags = soup.find_all('span',{'class':'product-prices__value product-prices__value--best-price'})\n",
    "precios=list()\n",
    "for tag in tags:\n",
    "    precios.append(tag.contents[0])"
   ]
  },
  {
   "cell_type": "code",
   "execution_count": 192,
   "id": "b5508e53",
   "metadata": {},
   "outputs": [
    {
     "ename": "ValueError",
     "evalue": "All arrays must be of the same length",
     "output_type": "error",
     "traceback": [
      "\u001b[1;31m---------------------------------------------------------------------------\u001b[0m",
      "\u001b[1;31mValueError\u001b[0m                                Traceback (most recent call last)",
      "\u001b[1;32m~\\AppData\\Local\\Temp/ipykernel_15008/2542683123.py\u001b[0m in \u001b[0;36m<module>\u001b[1;34m\u001b[0m\n\u001b[1;32m----> 1\u001b[1;33m \u001b[0mdf\u001b[0m \u001b[1;33m=\u001b[0m \u001b[0mpd\u001b[0m\u001b[1;33m.\u001b[0m\u001b[0mDataFrame\u001b[0m\u001b[1;33m(\u001b[0m\u001b[1;33m{\u001b[0m\u001b[1;34m\"titulo\"\u001b[0m\u001b[1;33m:\u001b[0m\u001b[0mtitulos\u001b[0m\u001b[1;33m,\u001b[0m\u001b[1;34m\"precios\"\u001b[0m\u001b[1;33m:\u001b[0m\u001b[0mprecios\u001b[0m\u001b[1;33m}\u001b[0m\u001b[1;33m)\u001b[0m\u001b[1;33m\u001b[0m\u001b[1;33m\u001b[0m\u001b[0m\n\u001b[0m",
      "\u001b[1;32mC:\\ProgramData\\Anaconda3\\lib\\site-packages\\pandas\\core\\frame.py\u001b[0m in \u001b[0;36m__init__\u001b[1;34m(self, data, index, columns, dtype, copy)\u001b[0m\n\u001b[0;32m    612\u001b[0m         \u001b[1;32melif\u001b[0m \u001b[0misinstance\u001b[0m\u001b[1;33m(\u001b[0m\u001b[0mdata\u001b[0m\u001b[1;33m,\u001b[0m \u001b[0mdict\u001b[0m\u001b[1;33m)\u001b[0m\u001b[1;33m:\u001b[0m\u001b[1;33m\u001b[0m\u001b[1;33m\u001b[0m\u001b[0m\n\u001b[0;32m    613\u001b[0m             \u001b[1;31m# GH#38939 de facto copy defaults to False only in non-dict cases\u001b[0m\u001b[1;33m\u001b[0m\u001b[1;33m\u001b[0m\u001b[0m\n\u001b[1;32m--> 614\u001b[1;33m             \u001b[0mmgr\u001b[0m \u001b[1;33m=\u001b[0m \u001b[0mdict_to_mgr\u001b[0m\u001b[1;33m(\u001b[0m\u001b[0mdata\u001b[0m\u001b[1;33m,\u001b[0m \u001b[0mindex\u001b[0m\u001b[1;33m,\u001b[0m \u001b[0mcolumns\u001b[0m\u001b[1;33m,\u001b[0m \u001b[0mdtype\u001b[0m\u001b[1;33m=\u001b[0m\u001b[0mdtype\u001b[0m\u001b[1;33m,\u001b[0m \u001b[0mcopy\u001b[0m\u001b[1;33m=\u001b[0m\u001b[0mcopy\u001b[0m\u001b[1;33m,\u001b[0m \u001b[0mtyp\u001b[0m\u001b[1;33m=\u001b[0m\u001b[0mmanager\u001b[0m\u001b[1;33m)\u001b[0m\u001b[1;33m\u001b[0m\u001b[1;33m\u001b[0m\u001b[0m\n\u001b[0m\u001b[0;32m    615\u001b[0m         \u001b[1;32melif\u001b[0m \u001b[0misinstance\u001b[0m\u001b[1;33m(\u001b[0m\u001b[0mdata\u001b[0m\u001b[1;33m,\u001b[0m \u001b[0mma\u001b[0m\u001b[1;33m.\u001b[0m\u001b[0mMaskedArray\u001b[0m\u001b[1;33m)\u001b[0m\u001b[1;33m:\u001b[0m\u001b[1;33m\u001b[0m\u001b[1;33m\u001b[0m\u001b[0m\n\u001b[0;32m    616\u001b[0m             \u001b[1;32mimport\u001b[0m \u001b[0mnumpy\u001b[0m\u001b[1;33m.\u001b[0m\u001b[0mma\u001b[0m\u001b[1;33m.\u001b[0m\u001b[0mmrecords\u001b[0m \u001b[1;32mas\u001b[0m \u001b[0mmrecords\u001b[0m\u001b[1;33m\u001b[0m\u001b[1;33m\u001b[0m\u001b[0m\n",
      "\u001b[1;32mC:\\ProgramData\\Anaconda3\\lib\\site-packages\\pandas\\core\\internals\\construction.py\u001b[0m in \u001b[0;36mdict_to_mgr\u001b[1;34m(data, index, columns, dtype, typ, copy)\u001b[0m\n\u001b[0;32m    462\u001b[0m         \u001b[1;31m# TODO: can we get rid of the dt64tz special case above?\u001b[0m\u001b[1;33m\u001b[0m\u001b[1;33m\u001b[0m\u001b[0m\n\u001b[0;32m    463\u001b[0m \u001b[1;33m\u001b[0m\u001b[0m\n\u001b[1;32m--> 464\u001b[1;33m     return arrays_to_mgr(\n\u001b[0m\u001b[0;32m    465\u001b[0m         \u001b[0marrays\u001b[0m\u001b[1;33m,\u001b[0m \u001b[0mdata_names\u001b[0m\u001b[1;33m,\u001b[0m \u001b[0mindex\u001b[0m\u001b[1;33m,\u001b[0m \u001b[0mcolumns\u001b[0m\u001b[1;33m,\u001b[0m \u001b[0mdtype\u001b[0m\u001b[1;33m=\u001b[0m\u001b[0mdtype\u001b[0m\u001b[1;33m,\u001b[0m \u001b[0mtyp\u001b[0m\u001b[1;33m=\u001b[0m\u001b[0mtyp\u001b[0m\u001b[1;33m,\u001b[0m \u001b[0mconsolidate\u001b[0m\u001b[1;33m=\u001b[0m\u001b[0mcopy\u001b[0m\u001b[1;33m\u001b[0m\u001b[1;33m\u001b[0m\u001b[0m\n\u001b[0;32m    466\u001b[0m     )\n",
      "\u001b[1;32mC:\\ProgramData\\Anaconda3\\lib\\site-packages\\pandas\\core\\internals\\construction.py\u001b[0m in \u001b[0;36marrays_to_mgr\u001b[1;34m(arrays, arr_names, index, columns, dtype, verify_integrity, typ, consolidate)\u001b[0m\n\u001b[0;32m    117\u001b[0m         \u001b[1;31m# figure out the index, if necessary\u001b[0m\u001b[1;33m\u001b[0m\u001b[1;33m\u001b[0m\u001b[0m\n\u001b[0;32m    118\u001b[0m         \u001b[1;32mif\u001b[0m \u001b[0mindex\u001b[0m \u001b[1;32mis\u001b[0m \u001b[1;32mNone\u001b[0m\u001b[1;33m:\u001b[0m\u001b[1;33m\u001b[0m\u001b[1;33m\u001b[0m\u001b[0m\n\u001b[1;32m--> 119\u001b[1;33m             \u001b[0mindex\u001b[0m \u001b[1;33m=\u001b[0m \u001b[0m_extract_index\u001b[0m\u001b[1;33m(\u001b[0m\u001b[0marrays\u001b[0m\u001b[1;33m)\u001b[0m\u001b[1;33m\u001b[0m\u001b[1;33m\u001b[0m\u001b[0m\n\u001b[0m\u001b[0;32m    120\u001b[0m         \u001b[1;32melse\u001b[0m\u001b[1;33m:\u001b[0m\u001b[1;33m\u001b[0m\u001b[1;33m\u001b[0m\u001b[0m\n\u001b[0;32m    121\u001b[0m             \u001b[0mindex\u001b[0m \u001b[1;33m=\u001b[0m \u001b[0mensure_index\u001b[0m\u001b[1;33m(\u001b[0m\u001b[0mindex\u001b[0m\u001b[1;33m)\u001b[0m\u001b[1;33m\u001b[0m\u001b[1;33m\u001b[0m\u001b[0m\n",
      "\u001b[1;32mC:\\ProgramData\\Anaconda3\\lib\\site-packages\\pandas\\core\\internals\\construction.py\u001b[0m in \u001b[0;36m_extract_index\u001b[1;34m(data)\u001b[0m\n\u001b[0;32m    633\u001b[0m             \u001b[0mlengths\u001b[0m \u001b[1;33m=\u001b[0m \u001b[0mlist\u001b[0m\u001b[1;33m(\u001b[0m\u001b[0mset\u001b[0m\u001b[1;33m(\u001b[0m\u001b[0mraw_lengths\u001b[0m\u001b[1;33m)\u001b[0m\u001b[1;33m)\u001b[0m\u001b[1;33m\u001b[0m\u001b[1;33m\u001b[0m\u001b[0m\n\u001b[0;32m    634\u001b[0m             \u001b[1;32mif\u001b[0m \u001b[0mlen\u001b[0m\u001b[1;33m(\u001b[0m\u001b[0mlengths\u001b[0m\u001b[1;33m)\u001b[0m \u001b[1;33m>\u001b[0m \u001b[1;36m1\u001b[0m\u001b[1;33m:\u001b[0m\u001b[1;33m\u001b[0m\u001b[1;33m\u001b[0m\u001b[0m\n\u001b[1;32m--> 635\u001b[1;33m                 \u001b[1;32mraise\u001b[0m \u001b[0mValueError\u001b[0m\u001b[1;33m(\u001b[0m\u001b[1;34m\"All arrays must be of the same length\"\u001b[0m\u001b[1;33m)\u001b[0m\u001b[1;33m\u001b[0m\u001b[1;33m\u001b[0m\u001b[0m\n\u001b[0m\u001b[0;32m    636\u001b[0m \u001b[1;33m\u001b[0m\u001b[0m\n\u001b[0;32m    637\u001b[0m             \u001b[1;32mif\u001b[0m \u001b[0mhave_dicts\u001b[0m\u001b[1;33m:\u001b[0m\u001b[1;33m\u001b[0m\u001b[1;33m\u001b[0m\u001b[0m\n",
      "\u001b[1;31mValueError\u001b[0m: All arrays must be of the same length"
     ]
    }
   ],
   "source": [
    "df = pd.DataFrame({\"titulo\":titulos,\"precios\":precios})"
   ]
  },
  {
   "cell_type": "code",
   "execution_count": 166,
   "id": "3ba78ab2",
   "metadata": {},
   "outputs": [
    {
     "ename": "NameError",
     "evalue": "name 'df' is not defined",
     "output_type": "error",
     "traceback": [
      "\u001b[1;31m---------------------------------------------------------------------------\u001b[0m",
      "\u001b[1;31mNameError\u001b[0m                                 Traceback (most recent call last)",
      "\u001b[1;32m~\\AppData\\Local\\Temp/ipykernel_15008/1396537375.py\u001b[0m in \u001b[0;36m<module>\u001b[1;34m\u001b[0m\n\u001b[1;32m----> 1\u001b[1;33m \u001b[0mdf\u001b[0m\u001b[1;33m\u001b[0m\u001b[1;33m\u001b[0m\u001b[0m\n\u001b[0m",
      "\u001b[1;31mNameError\u001b[0m: name 'df' is not defined"
     ]
    }
   ],
   "source": [
    "df"
   ]
  },
  {
   "cell_type": "code",
   "execution_count": null,
   "id": "3a246318",
   "metadata": {},
   "outputs": [],
   "source": []
  },
  {
   "cell_type": "code",
   "execution_count": 52,
   "id": "abd21cca",
   "metadata": {},
   "outputs": [
    {
     "data": {
      "text/plain": [
       "200"
      ]
     },
     "execution_count": 52,
     "metadata": {},
     "output_type": "execute_result"
    }
   ],
   "source": [
    "r.status_code"
   ]
  },
  {
   "cell_type": "code",
   "execution_count": null,
   "id": "d0839c94",
   "metadata": {},
   "outputs": [],
   "source": []
  },
  {
   "cell_type": "code",
   "execution_count": null,
   "id": "a2919c9f",
   "metadata": {},
   "outputs": [],
   "source": [
    "\n",
    " "
   ]
  },
  {
   "cell_type": "code",
   "execution_count": null,
   "id": "c8d2d384",
   "metadata": {},
   "outputs": [],
   "source": []
  },
  {
   "cell_type": "code",
   "execution_count": null,
   "id": "c67d9cda",
   "metadata": {},
   "outputs": [],
   "source": []
  },
  {
   "cell_type": "code",
   "execution_count": null,
   "id": "b351f460",
   "metadata": {},
   "outputs": [],
   "source": []
  },
  {
   "cell_type": "code",
   "execution_count": null,
   "id": "23ef4143",
   "metadata": {},
   "outputs": [],
   "source": []
  },
  {
   "cell_type": "code",
   "execution_count": 8,
   "id": "73192753",
   "metadata": {},
   "outputs": [],
   "source": []
  },
  {
   "cell_type": "code",
   "execution_count": 9,
   "id": "7965e238",
   "metadata": {},
   "outputs": [
    {
     "data": {
      "text/plain": [
       "[]"
      ]
     },
     "execution_count": 9,
     "metadata": {},
     "output_type": "execute_result"
    }
   ],
   "source": []
  },
  {
   "cell_type": "code",
   "execution_count": null,
   "id": "c7609311",
   "metadata": {},
   "outputs": [],
   "source": []
  },
  {
   "cell_type": "code",
   "execution_count": null,
   "id": "d3e7ec89",
   "metadata": {},
   "outputs": [],
   "source": []
  }
 ],
 "metadata": {
  "kernelspec": {
   "display_name": "Python 3 (ipykernel)",
   "language": "python",
   "name": "python3"
  },
  "language_info": {
   "codemirror_mode": {
    "name": "ipython",
    "version": 3
   },
   "file_extension": ".py",
   "mimetype": "text/x-python",
   "name": "python",
   "nbconvert_exporter": "python",
   "pygments_lexer": "ipython3",
   "version": "3.9.7"
  }
 },
 "nbformat": 4,
 "nbformat_minor": 5
}
